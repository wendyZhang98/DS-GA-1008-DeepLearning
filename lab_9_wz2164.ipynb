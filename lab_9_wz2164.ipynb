{
  "nbformat": 4,
  "nbformat_minor": 0,
  "metadata": {
    "colab": {
      "name": "lab_9",
      "provenance": [],
      "collapsed_sections": [],
      "include_colab_link": true
    },
    "kernelspec": {
      "name": "python3",
      "display_name": "Python 3"
    },
    "language_info": {
      "name": "python"
    }
  },
  "cells": [
    {
      "cell_type": "markdown",
      "metadata": {
        "id": "view-in-github",
        "colab_type": "text"
      },
      "source": [
        "<a href=\"https://colab.research.google.com/github/wendyZhang98/DS-GA-1008-DeepLearning/blob/main/lab_9_wz2164.ipynb\" target=\"_parent\"><img src=\"https://colab.research.google.com/assets/colab-badge.svg\" alt=\"Open In Colab\"/></a>"
      ]
    },
    {
      "cell_type": "code",
      "execution_count": null,
      "metadata": {
        "colab": {
          "base_uri": "https://localhost:8080/"
        },
        "id": "lc5jGk1HrXXN",
        "outputId": "85fa72ab-4494-4c70-94a5-1b7e9603d646"
      },
      "outputs": [
        {
          "output_type": "stream",
          "name": "stdout",
          "text": [
            "Cloning into 'private-pgm'...\n",
            "remote: Enumerating objects: 485, done.\u001b[K\n",
            "remote: Counting objects: 100% (314/314), done.\u001b[K\n",
            "remote: Compressing objects: 100% (203/203), done.\u001b[K\n",
            "remote: Total 485 (delta 131), reused 260 (delta 95), pack-reused 171\u001b[K\n",
            "Receiving objects: 100% (485/485), 2.14 MiB | 12.77 MiB/s, done.\n",
            "Resolving deltas: 100% (205/205), done.\n",
            "/content/private-pgm\n",
            "Requirement already satisfied: numpy in /usr/local/lib/python3.7/dist-packages (from -r requirements.txt (line 1)) (1.21.5)\n",
            "Requirement already satisfied: scipy in /usr/local/lib/python3.7/dist-packages (from -r requirements.txt (line 2)) (1.4.1)\n",
            "Requirement already satisfied: pandas in /usr/local/lib/python3.7/dist-packages (from -r requirements.txt (line 3)) (1.3.5)\n",
            "Requirement already satisfied: networkx in /usr/local/lib/python3.7/dist-packages (from -r requirements.txt (line 4)) (2.6.3)\n",
            "Requirement already satisfied: matplotlib in /usr/local/lib/python3.7/dist-packages (from -r requirements.txt (line 5)) (3.2.2)\n",
            "Collecting nose\n",
            "  Downloading nose-1.3.7-py3-none-any.whl (154 kB)\n",
            "\u001b[K     |████████████████████████████████| 154 kB 7.3 MB/s \n",
            "\u001b[?25hCollecting disjoint-set\n",
            "  Downloading disjoint_set-0.7.3-py3-none-any.whl (5.2 kB)\n",
            "Requirement already satisfied: pytz>=2017.3 in /usr/local/lib/python3.7/dist-packages (from pandas->-r requirements.txt (line 3)) (2018.9)\n",
            "Requirement already satisfied: python-dateutil>=2.7.3 in /usr/local/lib/python3.7/dist-packages (from pandas->-r requirements.txt (line 3)) (2.8.2)\n",
            "Requirement already satisfied: six>=1.5 in /usr/local/lib/python3.7/dist-packages (from python-dateutil>=2.7.3->pandas->-r requirements.txt (line 3)) (1.15.0)\n",
            "Requirement already satisfied: kiwisolver>=1.0.1 in /usr/local/lib/python3.7/dist-packages (from matplotlib->-r requirements.txt (line 5)) (1.4.0)\n",
            "Requirement already satisfied: cycler>=0.10 in /usr/local/lib/python3.7/dist-packages (from matplotlib->-r requirements.txt (line 5)) (0.11.0)\n",
            "Requirement already satisfied: pyparsing!=2.0.4,!=2.1.2,!=2.1.6,>=2.0.1 in /usr/local/lib/python3.7/dist-packages (from matplotlib->-r requirements.txt (line 5)) (3.0.7)\n",
            "Requirement already satisfied: typing-extensions in /usr/local/lib/python3.7/dist-packages (from kiwisolver>=1.0.1->matplotlib->-r requirements.txt (line 5)) (3.10.0.2)\n",
            "Installing collected packages: nose, disjoint-set\n",
            "Successfully installed disjoint-set-0.7.3 nose-1.3.7\n",
            "running install\n",
            "running bdist_egg\n",
            "running egg_info\n",
            "creating src/private_pgm.egg-info\n",
            "writing src/private_pgm.egg-info/PKG-INFO\n",
            "writing dependency_links to src/private_pgm.egg-info/dependency_links.txt\n",
            "writing requirements to src/private_pgm.egg-info/requires.txt\n",
            "writing top-level names to src/private_pgm.egg-info/top_level.txt\n",
            "writing manifest file 'src/private_pgm.egg-info/SOURCES.txt'\n",
            "adding license file 'LICENSE'\n",
            "writing manifest file 'src/private_pgm.egg-info/SOURCES.txt'\n",
            "installing library code to build/bdist.linux-x86_64/egg\n",
            "running install_lib\n",
            "running build_py\n",
            "creating build\n",
            "creating build/lib\n",
            "creating build/lib/mbi\n",
            "copying src/mbi/public_inference.py -> build/lib/mbi\n",
            "copying src/mbi/factor.py -> build/lib/mbi\n",
            "copying src/mbi/mixture_inference.py -> build/lib/mbi\n",
            "copying src/mbi/inference.py -> build/lib/mbi\n",
            "copying src/mbi/callbacks.py -> build/lib/mbi\n",
            "copying src/mbi/dataset.py -> build/lib/mbi\n",
            "copying src/mbi/__init__.py -> build/lib/mbi\n",
            "copying src/mbi/factor_graph.py -> build/lib/mbi\n",
            "copying src/mbi/domain.py -> build/lib/mbi\n",
            "copying src/mbi/graphical_model.py -> build/lib/mbi\n",
            "copying src/mbi/region_graph.py -> build/lib/mbi\n",
            "copying src/mbi/junction_tree.py -> build/lib/mbi\n",
            "copying src/mbi/clique_vector.py -> build/lib/mbi\n",
            "copying src/mbi/torch_factor.py -> build/lib/mbi\n",
            "copying src/mbi/mechanism.py -> build/lib/mbi\n",
            "copying src/mbi/local_inference.py -> build/lib/mbi\n",
            "creating build/bdist.linux-x86_64\n",
            "creating build/bdist.linux-x86_64/egg\n",
            "creating build/bdist.linux-x86_64/egg/mbi\n",
            "copying build/lib/mbi/public_inference.py -> build/bdist.linux-x86_64/egg/mbi\n",
            "copying build/lib/mbi/factor.py -> build/bdist.linux-x86_64/egg/mbi\n",
            "copying build/lib/mbi/mixture_inference.py -> build/bdist.linux-x86_64/egg/mbi\n",
            "copying build/lib/mbi/inference.py -> build/bdist.linux-x86_64/egg/mbi\n",
            "copying build/lib/mbi/callbacks.py -> build/bdist.linux-x86_64/egg/mbi\n",
            "copying build/lib/mbi/dataset.py -> build/bdist.linux-x86_64/egg/mbi\n",
            "copying build/lib/mbi/__init__.py -> build/bdist.linux-x86_64/egg/mbi\n",
            "copying build/lib/mbi/factor_graph.py -> build/bdist.linux-x86_64/egg/mbi\n",
            "copying build/lib/mbi/domain.py -> build/bdist.linux-x86_64/egg/mbi\n",
            "copying build/lib/mbi/graphical_model.py -> build/bdist.linux-x86_64/egg/mbi\n",
            "copying build/lib/mbi/region_graph.py -> build/bdist.linux-x86_64/egg/mbi\n",
            "copying build/lib/mbi/junction_tree.py -> build/bdist.linux-x86_64/egg/mbi\n",
            "copying build/lib/mbi/clique_vector.py -> build/bdist.linux-x86_64/egg/mbi\n",
            "copying build/lib/mbi/torch_factor.py -> build/bdist.linux-x86_64/egg/mbi\n",
            "copying build/lib/mbi/mechanism.py -> build/bdist.linux-x86_64/egg/mbi\n",
            "copying build/lib/mbi/local_inference.py -> build/bdist.linux-x86_64/egg/mbi\n",
            "byte-compiling build/bdist.linux-x86_64/egg/mbi/public_inference.py to public_inference.cpython-37.pyc\n",
            "byte-compiling build/bdist.linux-x86_64/egg/mbi/factor.py to factor.cpython-37.pyc\n",
            "byte-compiling build/bdist.linux-x86_64/egg/mbi/mixture_inference.py to mixture_inference.cpython-37.pyc\n",
            "byte-compiling build/bdist.linux-x86_64/egg/mbi/inference.py to inference.cpython-37.pyc\n",
            "byte-compiling build/bdist.linux-x86_64/egg/mbi/callbacks.py to callbacks.cpython-37.pyc\n",
            "byte-compiling build/bdist.linux-x86_64/egg/mbi/dataset.py to dataset.cpython-37.pyc\n",
            "byte-compiling build/bdist.linux-x86_64/egg/mbi/__init__.py to __init__.cpython-37.pyc\n",
            "byte-compiling build/bdist.linux-x86_64/egg/mbi/factor_graph.py to factor_graph.cpython-37.pyc\n",
            "byte-compiling build/bdist.linux-x86_64/egg/mbi/domain.py to domain.cpython-37.pyc\n",
            "byte-compiling build/bdist.linux-x86_64/egg/mbi/graphical_model.py to graphical_model.cpython-37.pyc\n",
            "byte-compiling build/bdist.linux-x86_64/egg/mbi/region_graph.py to region_graph.cpython-37.pyc\n",
            "byte-compiling build/bdist.linux-x86_64/egg/mbi/junction_tree.py to junction_tree.cpython-37.pyc\n",
            "byte-compiling build/bdist.linux-x86_64/egg/mbi/clique_vector.py to clique_vector.cpython-37.pyc\n",
            "byte-compiling build/bdist.linux-x86_64/egg/mbi/torch_factor.py to torch_factor.cpython-37.pyc\n",
            "byte-compiling build/bdist.linux-x86_64/egg/mbi/mechanism.py to mechanism.cpython-37.pyc\n",
            "byte-compiling build/bdist.linux-x86_64/egg/mbi/local_inference.py to local_inference.cpython-37.pyc\n",
            "creating build/bdist.linux-x86_64/egg/EGG-INFO\n",
            "copying src/private_pgm.egg-info/PKG-INFO -> build/bdist.linux-x86_64/egg/EGG-INFO\n",
            "copying src/private_pgm.egg-info/SOURCES.txt -> build/bdist.linux-x86_64/egg/EGG-INFO\n",
            "copying src/private_pgm.egg-info/dependency_links.txt -> build/bdist.linux-x86_64/egg/EGG-INFO\n",
            "copying src/private_pgm.egg-info/requires.txt -> build/bdist.linux-x86_64/egg/EGG-INFO\n",
            "copying src/private_pgm.egg-info/top_level.txt -> build/bdist.linux-x86_64/egg/EGG-INFO\n",
            "zip_safe flag not set; analyzing archive contents...\n",
            "creating dist\n",
            "creating 'dist/private_pgm-0.0.1-py3.7.egg' and adding 'build/bdist.linux-x86_64/egg' to it\n",
            "removing 'build/bdist.linux-x86_64/egg' (and everything under it)\n",
            "Processing private_pgm-0.0.1-py3.7.egg\n",
            "Copying private_pgm-0.0.1-py3.7.egg to /usr/local/lib/python3.7/dist-packages\n",
            "Adding private-pgm 0.0.1 to easy-install.pth file\n",
            "\n",
            "Installed /usr/local/lib/python3.7/dist-packages/private_pgm-0.0.1-py3.7.egg\n",
            "Processing dependencies for private-pgm==0.0.1\n",
            "Searching for disjoint-set==0.7.3\n",
            "Best match: disjoint-set 0.7.3\n",
            "Adding disjoint-set 0.7.3 to easy-install.pth file\n",
            "\n",
            "Using /usr/local/lib/python3.7/dist-packages\n",
            "Searching for nose==1.3.7\n",
            "Best match: nose 1.3.7\n",
            "Adding nose 1.3.7 to easy-install.pth file\n",
            "Installing nosetests script to /usr/local/bin\n",
            "Installing nosetests-3.4 script to /usr/local/bin\n",
            "\n",
            "Using /usr/local/lib/python3.7/dist-packages\n",
            "Searching for matplotlib==3.2.2\n",
            "Best match: matplotlib 3.2.2\n",
            "Adding matplotlib 3.2.2 to easy-install.pth file\n",
            "\n",
            "Using /usr/local/lib/python3.7/dist-packages\n",
            "Searching for networkx==2.6.3\n",
            "Best match: networkx 2.6.3\n",
            "Adding networkx 2.6.3 to easy-install.pth file\n",
            "\n",
            "Using /usr/local/lib/python3.7/dist-packages\n",
            "Searching for pandas==1.3.5\n",
            "Best match: pandas 1.3.5\n",
            "Adding pandas 1.3.5 to easy-install.pth file\n",
            "\n",
            "Using /usr/local/lib/python3.7/dist-packages\n",
            "Searching for scipy==1.4.1\n",
            "Best match: scipy 1.4.1\n",
            "Adding scipy 1.4.1 to easy-install.pth file\n",
            "\n",
            "Using /usr/local/lib/python3.7/dist-packages\n",
            "Searching for numpy==1.21.5\n",
            "Best match: numpy 1.21.5\n",
            "Adding numpy 1.21.5 to easy-install.pth file\n",
            "Installing f2py script to /usr/local/bin\n",
            "Installing f2py3 script to /usr/local/bin\n",
            "Installing f2py3.7 script to /usr/local/bin\n",
            "\n",
            "Using /usr/local/lib/python3.7/dist-packages\n",
            "Searching for python-dateutil==2.8.2\n",
            "Best match: python-dateutil 2.8.2\n",
            "Adding python-dateutil 2.8.2 to easy-install.pth file\n",
            "\n",
            "Using /usr/local/lib/python3.7/dist-packages\n",
            "Searching for cycler==0.11.0\n",
            "Best match: cycler 0.11.0\n",
            "Adding cycler 0.11.0 to easy-install.pth file\n",
            "\n",
            "Using /usr/local/lib/python3.7/dist-packages\n",
            "Searching for kiwisolver==1.4.0\n",
            "Best match: kiwisolver 1.4.0\n",
            "Adding kiwisolver 1.4.0 to easy-install.pth file\n",
            "\n",
            "Using /usr/local/lib/python3.7/dist-packages\n",
            "Searching for pyparsing==3.0.7\n",
            "Best match: pyparsing 3.0.7\n",
            "Adding pyparsing 3.0.7 to easy-install.pth file\n",
            "\n",
            "Using /usr/local/lib/python3.7/dist-packages\n",
            "Searching for pytz==2018.9\n",
            "Best match: pytz 2018.9\n",
            "Adding pytz 2018.9 to easy-install.pth file\n",
            "\n",
            "Using /usr/local/lib/python3.7/dist-packages\n",
            "Searching for six==1.15.0\n",
            "Best match: six 1.15.0\n",
            "Adding six 1.15.0 to easy-install.pth file\n",
            "\n",
            "Using /usr/local/lib/python3.7/dist-packages\n",
            "Searching for typing-extensions==3.10.0.2\n",
            "Best match: typing-extensions 3.10.0.2\n",
            "Adding typing-extensions 3.10.0.2 to easy-install.pth file\n",
            "\n",
            "Using /usr/local/lib/python3.7/dist-packages\n",
            "Finished processing dependencies for private-pgm==0.0.1\n",
            "Cloning into 'host_mst_wrapper'...\n",
            "remote: Enumerating objects: 72, done.\u001b[K\n",
            "remote: Counting objects: 100% (72/72), done.\u001b[K\n",
            "remote: Compressing objects: 100% (58/58), done.\u001b[K\n",
            "remote: Total 72 (delta 28), reused 32 (delta 11), pack-reused 0\u001b[K\n",
            "Unpacking objects: 100% (72/72), done.\n"
          ]
        }
      ],
      "source": [
        "!git clone https://github.com/ryan112358/private-pgm.git\n",
        "%cd private-pgm\n",
        "! pip install -r requirements.txt\n",
        "! python setup.py install\n",
        "import os, sys\n",
        "sys.path.append(os.getcwd())\n",
        "\n",
        "!git clone https://github.com/lurosenb/host_mst_wrapper"
      ]
    },
    {
      "cell_type": "code",
      "source": [
        "from IPython.display import clear_output\n",
        "from scipy.stats import entropy, ks_2samp\n",
        "from scipy.spatial.distance import euclidean\n",
        "from sklearn.metrics import mutual_info_score\n",
        "from random import randint\n",
        "import pandas as pd\n",
        "import matplotlib.pyplot as plt\n",
        "import seaborn as sns\n",
        "%matplotlib inline\n",
        "\n",
        "# Packages for reading csv file into Colaboratory:\n",
        "!pip install -U -q PyDrive==1.3.1\n",
        "\n",
        "from pydrive.auth import GoogleAuth\n",
        "from pydrive.drive import GoogleDrive\n",
        "from google.colab import auth\n",
        "from oauth2client.client import GoogleCredentials\n",
        "\n",
        "# Authenticate and create the PyDrive client. \n",
        "# Please follow the steps as instructed when you run the following commands. \n",
        "\n",
        "auth.authenticate_user()\n",
        "gauth = GoogleAuth()\n",
        "gauth.credentials = GoogleCredentials.get_application_default()\n",
        "drive = GoogleDrive(gauth)\n",
        "\n",
        "fileid_compas = '1kgSIBkOM9y0nz_l8LI8ze9TAhF5gbb64'    \n",
        "real_data_file = 'hw_compas.csv'\n",
        "\n",
        "downloaded = drive.CreateFile({'id':fileid_compas}) \n",
        "downloaded.GetContentFile(real_data_file)  \n",
        "df_real = pd.read_csv(real_data_file)"
      ],
      "metadata": {
        "id": "tGHDE2myrgy0"
      },
      "execution_count": null,
      "outputs": []
    },
    {
      "cell_type": "code",
      "source": [
        "import sys\n",
        "sys.path.insert(1, \"/content/private-pgm/src\")\n",
        "from host_mst_wrapper.mst.mst import MSTSynthesizer\n",
        "from host_mst_wrapper.mst.pmse import pmse_ratio\n",
        "\n",
        "df_real['sex'] = df_real['sex'].astype('category')\n",
        "df_real['race'] = df_real['race'].astype('category')\n",
        "df_real['score'] = df_real['score'].astype('category')\n",
        "categorical = df_real.select_dtypes(['category']).columns\n",
        "df_real[categorical] = df_real[categorical].apply(lambda x: x.cat.codes)"
      ],
      "metadata": {
        "id": "ThFIIu90rsWP"
      },
      "execution_count": null,
      "outputs": []
    },
    {
      "cell_type": "markdown",
      "source": [
        "## MST\n",
        "We will generate differentially private synthetic data using MST. Using some adversarial examples, we will evaluate how attribute pair decisions impact the quality of our synthetic data, and think about why the maximum spanning tree based on mutual information is a good idea.\n",
        "\n",
        "What do we mean here by \"evaluate,\" though? How can we tell when our synthetic data is performing well, and when it's not? We will explore this today, starting with an example of a metric that tries to capture synthetic data quality with an elegant and simple approach.\n",
        "\n",
        "## Example Metric: pMSE\n",
        "We will evaluate the performance of MST here using a recent similarity metric for assessing the quality of the synthetic data called pMSE (propensity Mean Squared Error). \n",
        "\n",
        "### Intuition\n",
        "The intuition behind this metric is quite simple: assign a binary indicator variable to each sample - 0 or 1 for real or synthetic. Then, train a regression model to classify synthetic data - the better the regression model, the worse the synthetic data. The metric is normalized to be optimal at 1, though values significantly above 1 are common with poor synthetic data fit. Values close to 1 (i.e. lower values) are better."
      ],
      "metadata": {
        "id": "RDFfB-MksRRD"
      }
    },
    {
      "cell_type": "markdown",
      "source": [
        "### Example of pMSE\n",
        "So, if we compare the real data to itself using pMSE, we would expect to see a score of ~1.0."
      ],
      "metadata": {
        "id": "bWHbGG-4sM6s"
      }
    },
    {
      "cell_type": "code",
      "source": [
        "pmse = pmse_ratio(df_real, df_real, seed=3)\n",
        "print('pMSE ratio:',round(pmse,3))"
      ],
      "metadata": {
        "colab": {
          "base_uri": "https://localhost:8080/"
        },
        "id": "UvuOEaJMsLlF",
        "outputId": "0bea3043-dea2-4b44-ff77-cf697e1c3197"
      },
      "execution_count": null,
      "outputs": [
        {
          "output_type": "stream",
          "name": "stdout",
          "text": [
            "pMSE ratio: 1.35\n"
          ]
        }
      ]
    },
    {
      "cell_type": "markdown",
      "source": [
        "The best way to compute pMSE is to average the score across a set of seeds, such that you mitigate the noise inherent in which rows are chosen for classification."
      ],
      "metadata": {
        "id": "S2VFHjCwtw9s"
      }
    },
    {
      "cell_type": "code",
      "source": [
        "import random\n",
        "avg_pmse = 0\n",
        "seeds = [0, 1, 2, 3, 4, 5]\n",
        "for s in seeds:\n",
        "  avg_pmse += pmse_ratio(df_real, df_real, seed=s)\n",
        "\n",
        "\n",
        "print('Average pMSE:',round(avg_pmse/len(seeds),3))"
      ],
      "metadata": {
        "colab": {
          "base_uri": "https://localhost:8080/"
        },
        "id": "7bLj2tkOt48X",
        "outputId": "9d041f57-b71b-4db4-f809-00f4116800ba"
      },
      "execution_count": null,
      "outputs": [
        {
          "output_type": "stream",
          "name": "stdout",
          "text": [
            "Average pMSE: 1.319\n"
          ]
        }
      ]
    },
    {
      "cell_type": "markdown",
      "source": [
        "MST always uses some privacy budget to measure each attribute independent of other attributes as a starting point. So, for example, with the score attribute, we simply count up how many individuals received each score, and MST incorporates this information into its private distribution. These count queries are relatively inexpensive to perform in a private manner. \n",
        "\n",
        "### Sanity check\n",
        "Below, we use pMSE to check that, as we improve the 2-way marginals that we feed MST, we improve the performance of the synthetic data. We start with providing 0 2-way marginals, then provide a dumb set (across uncorrelated identities), and then provide a set with high correlation (the identity->score set)."
      ],
      "metadata": {
        "id": "-7DzoPWPtflH"
      }
    },
    {
      "cell_type": "code",
      "source": [
        "cliques_to_try = [\n",
        "    [],\n",
        "    [('sex', 'age'), ('age', 'race')],\n",
        "    [('sex', 'score'), ('age', 'score'), ('race', 'score')]\n",
        "]\n",
        "\n",
        "for cl in cliques_to_try:\n",
        "    synth = MSTSynthesizer(epsilon=1.0, \n",
        "                        domain_path=\"host_mst_wrapper/mst/compas-domain.json\",\n",
        "                        custom_cliques=True,\n",
        "                        cliques_set=cl)\n",
        "    synth.fit(df_real)\n",
        "    mst_fake_data = synth.sample(samples=len(df_real))\n",
        "    avg_pmse = 0\n",
        "    for s in seeds:\n",
        "      avg_pmse += pmse_ratio(df_real, mst_fake_data, seed=s)\n",
        "    print('Average pMSE:',round(avg_pmse/len(seeds),3))\n",
        "    print('')"
      ],
      "metadata": {
        "colab": {
          "base_uri": "https://localhost:8080/"
        },
        "id": "fW18Ca2br1SB",
        "outputId": "00c3d822-e26a-43c5-f482-96c0de492513"
      },
      "execution_count": null,
      "outputs": [
        {
          "output_type": "stream",
          "name": "stdout",
          "text": [
            "Domain(sex: 2, age: 101, race: 6, score: 11)\n",
            "Index(['sex', 'age', 'race', 'score'], dtype='object')\n",
            "[]\n",
            "Average pMSE: 2.881\n",
            "\n",
            "Domain(sex: 2, age: 101, race: 6, score: 11)\n",
            "Index(['sex', 'age', 'race', 'score'], dtype='object')\n",
            "[('sex', 'age'), ('age', 'race')]\n",
            "Average pMSE: 2.305\n",
            "\n",
            "Domain(sex: 2, age: 101, race: 6, score: 11)\n",
            "Index(['sex', 'age', 'race', 'score'], dtype='object')\n",
            "[('sex', 'score'), ('age', 'score'), ('race', 'score')]\n",
            "Average pMSE: 1.407\n",
            "\n"
          ]
        }
      ]
    },
    {
      "cell_type": "markdown",
      "source": [
        "## Evaluate using a new (or your own) metric!\n",
        "Your turn! Let's try to determine the quality of private synthetic data, in comparison to the real data.\n",
        "\n",
        "Feel free to scrape the internet for a metric that makes sense for comparing real to synthetic data, or come up with your own! What are you trying to evaluate? Specific queries? Predictive tasks? Be creative!\n",
        "\n",
        "Some examples of interesting tasks include:\n",
        "- Predictive: how good is synthetic data at **retaining predictive utility** of a classifier?\n",
        "  - Train classifier on MST data and real data, compare performance. Vary settings!\n",
        "- Statistical: how good is synthetic data at maintaining **more than 2 way correlations**? \n",
        "  - How good is the synthetic data at maintaining different distributions (normal, power, bi-modal, etc.)?\n",
        "- Fairness: how **fair** is the synthetic data demonstrated with respect to some protected class? \n",
        "  - How do we define fair here?\n",
        "\n",
        "Feel free to grab your own data for synthesizing here. We expect that you will turn in a notebook in which you discuss at least one meaningful metric and show at least one meaningful plot concerning that metric, but the exercise is designed to be otherwise unconstrained."
      ],
      "metadata": {
        "id": "hNx-lLGFsZHx"
      }
    },
    {
      "cell_type": "code",
      "source": [
        "synth = MSTSynthesizer(epsilon=1.0, \n",
        "                        domain_path=\"host_mst_wrapper/mst/compas-domain.json\")\n",
        "synth.fit(df_real)\n",
        "mst_fake_data = synth.sample(samples=len(df_real))"
      ],
      "metadata": {
        "colab": {
          "base_uri": "https://localhost:8080/"
        },
        "id": "c56kOJ2lsAA6",
        "outputId": "e821cabf-cbeb-4629-b5ce-4e9d58e97362"
      },
      "execution_count": null,
      "outputs": [
        {
          "output_type": "stream",
          "name": "stdout",
          "text": [
            "Domain(sex: 2, age: 101, race: 6, score: 11)\n",
            "Index(['sex', 'age', 'race', 'score'], dtype='object')\n",
            "[('sex', 'age'), ('age', 'score'), ('race', 'score')]\n"
          ]
        }
      ]
    },
    {
      "cell_type": "code",
      "source": [
        "mst_fake_data.head()"
      ],
      "metadata": {
        "colab": {
          "base_uri": "https://localhost:8080/"
        },
        "id": "Ycagwd2ltqNH",
        "outputId": "8e3c8c07-d9cc-43b3-9ce5-28944988891b"
      },
      "execution_count": null,
      "outputs": [
        {
          "output_type": "execute_result",
          "data": {
            "text/plain": [
              "   sex  age  race  score\n",
              "0    1   32     0      9\n",
              "1    1   24     0      8\n",
              "2    1   22     0      2\n",
              "3    1   42     0      8\n",
              "4    0   27     0      8"
            ],
            "text/html": [
              "\n",
              "  <div id=\"df-77116da1-9847-465c-bb02-3dbfd895f68f\">\n",
              "    <div class=\"colab-df-container\">\n",
              "      <div>\n",
              "<style scoped>\n",
              "    .dataframe tbody tr th:only-of-type {\n",
              "        vertical-align: middle;\n",
              "    }\n",
              "\n",
              "    .dataframe tbody tr th {\n",
              "        vertical-align: top;\n",
              "    }\n",
              "\n",
              "    .dataframe thead th {\n",
              "        text-align: right;\n",
              "    }\n",
              "</style>\n",
              "<table border=\"1\" class=\"dataframe\">\n",
              "  <thead>\n",
              "    <tr style=\"text-align: right;\">\n",
              "      <th></th>\n",
              "      <th>sex</th>\n",
              "      <th>age</th>\n",
              "      <th>race</th>\n",
              "      <th>score</th>\n",
              "    </tr>\n",
              "  </thead>\n",
              "  <tbody>\n",
              "    <tr>\n",
              "      <th>0</th>\n",
              "      <td>1</td>\n",
              "      <td>32</td>\n",
              "      <td>0</td>\n",
              "      <td>9</td>\n",
              "    </tr>\n",
              "    <tr>\n",
              "      <th>1</th>\n",
              "      <td>1</td>\n",
              "      <td>24</td>\n",
              "      <td>0</td>\n",
              "      <td>8</td>\n",
              "    </tr>\n",
              "    <tr>\n",
              "      <th>2</th>\n",
              "      <td>1</td>\n",
              "      <td>22</td>\n",
              "      <td>0</td>\n",
              "      <td>2</td>\n",
              "    </tr>\n",
              "    <tr>\n",
              "      <th>3</th>\n",
              "      <td>1</td>\n",
              "      <td>42</td>\n",
              "      <td>0</td>\n",
              "      <td>8</td>\n",
              "    </tr>\n",
              "    <tr>\n",
              "      <th>4</th>\n",
              "      <td>0</td>\n",
              "      <td>27</td>\n",
              "      <td>0</td>\n",
              "      <td>8</td>\n",
              "    </tr>\n",
              "  </tbody>\n",
              "</table>\n",
              "</div>\n",
              "      <button class=\"colab-df-convert\" onclick=\"convertToInteractive('df-77116da1-9847-465c-bb02-3dbfd895f68f')\"\n",
              "              title=\"Convert this dataframe to an interactive table.\"\n",
              "              style=\"display:none;\">\n",
              "        \n",
              "  <svg xmlns=\"http://www.w3.org/2000/svg\" height=\"24px\"viewBox=\"0 0 24 24\"\n",
              "       width=\"24px\">\n",
              "    <path d=\"M0 0h24v24H0V0z\" fill=\"none\"/>\n",
              "    <path d=\"M18.56 5.44l.94 2.06.94-2.06 2.06-.94-2.06-.94-.94-2.06-.94 2.06-2.06.94zm-11 1L8.5 8.5l.94-2.06 2.06-.94-2.06-.94L8.5 2.5l-.94 2.06-2.06.94zm10 10l.94 2.06.94-2.06 2.06-.94-2.06-.94-.94-2.06-.94 2.06-2.06.94z\"/><path d=\"M17.41 7.96l-1.37-1.37c-.4-.4-.92-.59-1.43-.59-.52 0-1.04.2-1.43.59L10.3 9.45l-7.72 7.72c-.78.78-.78 2.05 0 2.83L4 21.41c.39.39.9.59 1.41.59.51 0 1.02-.2 1.41-.59l7.78-7.78 2.81-2.81c.8-.78.8-2.07 0-2.86zM5.41 20L4 18.59l7.72-7.72 1.47 1.35L5.41 20z\"/>\n",
              "  </svg>\n",
              "      </button>\n",
              "      \n",
              "  <style>\n",
              "    .colab-df-container {\n",
              "      display:flex;\n",
              "      flex-wrap:wrap;\n",
              "      gap: 12px;\n",
              "    }\n",
              "\n",
              "    .colab-df-convert {\n",
              "      background-color: #E8F0FE;\n",
              "      border: none;\n",
              "      border-radius: 50%;\n",
              "      cursor: pointer;\n",
              "      display: none;\n",
              "      fill: #1967D2;\n",
              "      height: 32px;\n",
              "      padding: 0 0 0 0;\n",
              "      width: 32px;\n",
              "    }\n",
              "\n",
              "    .colab-df-convert:hover {\n",
              "      background-color: #E2EBFA;\n",
              "      box-shadow: 0px 1px 2px rgba(60, 64, 67, 0.3), 0px 1px 3px 1px rgba(60, 64, 67, 0.15);\n",
              "      fill: #174EA6;\n",
              "    }\n",
              "\n",
              "    [theme=dark] .colab-df-convert {\n",
              "      background-color: #3B4455;\n",
              "      fill: #D2E3FC;\n",
              "    }\n",
              "\n",
              "    [theme=dark] .colab-df-convert:hover {\n",
              "      background-color: #434B5C;\n",
              "      box-shadow: 0px 1px 3px 1px rgba(0, 0, 0, 0.15);\n",
              "      filter: drop-shadow(0px 1px 2px rgba(0, 0, 0, 0.3));\n",
              "      fill: #FFFFFF;\n",
              "    }\n",
              "  </style>\n",
              "\n",
              "      <script>\n",
              "        const buttonEl =\n",
              "          document.querySelector('#df-77116da1-9847-465c-bb02-3dbfd895f68f button.colab-df-convert');\n",
              "        buttonEl.style.display =\n",
              "          google.colab.kernel.accessAllowed ? 'block' : 'none';\n",
              "\n",
              "        async function convertToInteractive(key) {\n",
              "          const element = document.querySelector('#df-77116da1-9847-465c-bb02-3dbfd895f68f');\n",
              "          const dataTable =\n",
              "            await google.colab.kernel.invokeFunction('convertToInteractive',\n",
              "                                                     [key], {});\n",
              "          if (!dataTable) return;\n",
              "\n",
              "          const docLinkHtml = 'Like what you see? Visit the ' +\n",
              "            '<a target=\"_blank\" href=https://colab.research.google.com/notebooks/data_table.ipynb>data table notebook</a>'\n",
              "            + ' to learn more about interactive tables.';\n",
              "          element.innerHTML = '';\n",
              "          dataTable['output_type'] = 'display_data';\n",
              "          await google.colab.output.renderOutput(dataTable, element);\n",
              "          const docLink = document.createElement('div');\n",
              "          docLink.innerHTML = docLinkHtml;\n",
              "          element.appendChild(docLink);\n",
              "        }\n",
              "      </script>\n",
              "    </div>\n",
              "  </div>\n",
              "  "
            ]
          },
          "metadata": {},
          "execution_count": 8
        }
      ]
    },
    {
      "cell_type": "code",
      "source": [
        "df_real.head()"
      ],
      "metadata": {
        "colab": {
          "base_uri": "https://localhost:8080/"
        },
        "id": "c-1khI2Ytq5v",
        "outputId": "c6447031-a787-4bcf-a8e5-822b87e4c83a"
      },
      "execution_count": null,
      "outputs": [
        {
          "output_type": "execute_result",
          "data": {
            "text/plain": [
              "   sex  age  race  score\n",
              "0    1   69     5      1\n",
              "1    1   31     2      5\n",
              "2    1   34     0      3\n",
              "3    1   24     0      4\n",
              "4    1   23     0      8"
            ],
            "text/html": [
              "\n",
              "  <div id=\"df-e9a4e35e-4c32-4006-a9d6-671ab008a314\">\n",
              "    <div class=\"colab-df-container\">\n",
              "      <div>\n",
              "<style scoped>\n",
              "    .dataframe tbody tr th:only-of-type {\n",
              "        vertical-align: middle;\n",
              "    }\n",
              "\n",
              "    .dataframe tbody tr th {\n",
              "        vertical-align: top;\n",
              "    }\n",
              "\n",
              "    .dataframe thead th {\n",
              "        text-align: right;\n",
              "    }\n",
              "</style>\n",
              "<table border=\"1\" class=\"dataframe\">\n",
              "  <thead>\n",
              "    <tr style=\"text-align: right;\">\n",
              "      <th></th>\n",
              "      <th>sex</th>\n",
              "      <th>age</th>\n",
              "      <th>race</th>\n",
              "      <th>score</th>\n",
              "    </tr>\n",
              "  </thead>\n",
              "  <tbody>\n",
              "    <tr>\n",
              "      <th>0</th>\n",
              "      <td>1</td>\n",
              "      <td>69</td>\n",
              "      <td>5</td>\n",
              "      <td>1</td>\n",
              "    </tr>\n",
              "    <tr>\n",
              "      <th>1</th>\n",
              "      <td>1</td>\n",
              "      <td>31</td>\n",
              "      <td>2</td>\n",
              "      <td>5</td>\n",
              "    </tr>\n",
              "    <tr>\n",
              "      <th>2</th>\n",
              "      <td>1</td>\n",
              "      <td>34</td>\n",
              "      <td>0</td>\n",
              "      <td>3</td>\n",
              "    </tr>\n",
              "    <tr>\n",
              "      <th>3</th>\n",
              "      <td>1</td>\n",
              "      <td>24</td>\n",
              "      <td>0</td>\n",
              "      <td>4</td>\n",
              "    </tr>\n",
              "    <tr>\n",
              "      <th>4</th>\n",
              "      <td>1</td>\n",
              "      <td>23</td>\n",
              "      <td>0</td>\n",
              "      <td>8</td>\n",
              "    </tr>\n",
              "  </tbody>\n",
              "</table>\n",
              "</div>\n",
              "      <button class=\"colab-df-convert\" onclick=\"convertToInteractive('df-e9a4e35e-4c32-4006-a9d6-671ab008a314')\"\n",
              "              title=\"Convert this dataframe to an interactive table.\"\n",
              "              style=\"display:none;\">\n",
              "        \n",
              "  <svg xmlns=\"http://www.w3.org/2000/svg\" height=\"24px\"viewBox=\"0 0 24 24\"\n",
              "       width=\"24px\">\n",
              "    <path d=\"M0 0h24v24H0V0z\" fill=\"none\"/>\n",
              "    <path d=\"M18.56 5.44l.94 2.06.94-2.06 2.06-.94-2.06-.94-.94-2.06-.94 2.06-2.06.94zm-11 1L8.5 8.5l.94-2.06 2.06-.94-2.06-.94L8.5 2.5l-.94 2.06-2.06.94zm10 10l.94 2.06.94-2.06 2.06-.94-2.06-.94-.94-2.06-.94 2.06-2.06.94z\"/><path d=\"M17.41 7.96l-1.37-1.37c-.4-.4-.92-.59-1.43-.59-.52 0-1.04.2-1.43.59L10.3 9.45l-7.72 7.72c-.78.78-.78 2.05 0 2.83L4 21.41c.39.39.9.59 1.41.59.51 0 1.02-.2 1.41-.59l7.78-7.78 2.81-2.81c.8-.78.8-2.07 0-2.86zM5.41 20L4 18.59l7.72-7.72 1.47 1.35L5.41 20z\"/>\n",
              "  </svg>\n",
              "      </button>\n",
              "      \n",
              "  <style>\n",
              "    .colab-df-container {\n",
              "      display:flex;\n",
              "      flex-wrap:wrap;\n",
              "      gap: 12px;\n",
              "    }\n",
              "\n",
              "    .colab-df-convert {\n",
              "      background-color: #E8F0FE;\n",
              "      border: none;\n",
              "      border-radius: 50%;\n",
              "      cursor: pointer;\n",
              "      display: none;\n",
              "      fill: #1967D2;\n",
              "      height: 32px;\n",
              "      padding: 0 0 0 0;\n",
              "      width: 32px;\n",
              "    }\n",
              "\n",
              "    .colab-df-convert:hover {\n",
              "      background-color: #E2EBFA;\n",
              "      box-shadow: 0px 1px 2px rgba(60, 64, 67, 0.3), 0px 1px 3px 1px rgba(60, 64, 67, 0.15);\n",
              "      fill: #174EA6;\n",
              "    }\n",
              "\n",
              "    [theme=dark] .colab-df-convert {\n",
              "      background-color: #3B4455;\n",
              "      fill: #D2E3FC;\n",
              "    }\n",
              "\n",
              "    [theme=dark] .colab-df-convert:hover {\n",
              "      background-color: #434B5C;\n",
              "      box-shadow: 0px 1px 3px 1px rgba(0, 0, 0, 0.15);\n",
              "      filter: drop-shadow(0px 1px 2px rgba(0, 0, 0, 0.3));\n",
              "      fill: #FFFFFF;\n",
              "    }\n",
              "  </style>\n",
              "\n",
              "      <script>\n",
              "        const buttonEl =\n",
              "          document.querySelector('#df-e9a4e35e-4c32-4006-a9d6-671ab008a314 button.colab-df-convert');\n",
              "        buttonEl.style.display =\n",
              "          google.colab.kernel.accessAllowed ? 'block' : 'none';\n",
              "\n",
              "        async function convertToInteractive(key) {\n",
              "          const element = document.querySelector('#df-e9a4e35e-4c32-4006-a9d6-671ab008a314');\n",
              "          const dataTable =\n",
              "            await google.colab.kernel.invokeFunction('convertToInteractive',\n",
              "                                                     [key], {});\n",
              "          if (!dataTable) return;\n",
              "\n",
              "          const docLinkHtml = 'Like what you see? Visit the ' +\n",
              "            '<a target=\"_blank\" href=https://colab.research.google.com/notebooks/data_table.ipynb>data table notebook</a>'\n",
              "            + ' to learn more about interactive tables.';\n",
              "          element.innerHTML = '';\n",
              "          dataTable['output_type'] = 'display_data';\n",
              "          await google.colab.output.renderOutput(dataTable, element);\n",
              "          const docLink = document.createElement('div');\n",
              "          docLink.innerHTML = docLinkHtml;\n",
              "          element.appendChild(docLink);\n",
              "        }\n",
              "      </script>\n",
              "    </div>\n",
              "  </div>\n",
              "  "
            ]
          },
          "metadata": {},
          "execution_count": 9
        }
      ]
    },
    {
      "cell_type": "markdown",
      "source": [
        "### Include brief description of your metric here:"
      ],
      "metadata": {
        "id": "MaI0LWbkBqjB"
      }
    },
    {
      "cell_type": "code",
      "source": [
        "#INCLUDE YOUR CODE FOR PROPOSED METRIC HERE"
      ],
      "metadata": {
        "id": "gFUd2wyXu_3S"
      },
      "execution_count": null,
      "outputs": []
    }
  ]
}
{
  "nbformat": 4,
  "nbformat_minor": 0,
  "metadata": {
    "accelerator": "GPU",
    "colab": {
      "name": "hw2_rnn_wz2164.ipynb",
      "provenance": [],
      "collapsed_sections": []
    },
    "kernelspec": {
      "display_name": "Python 3",
      "language": "python",
      "name": "python3"
    },
    "language_info": {
      "codemirror_mode": {
        "name": "ipython",
        "version": 3
      },
      "file_extension": ".py",
      "mimetype": "text/x-python",
      "name": "python",
      "nbconvert_exporter": "python",
      "pygments_lexer": "ipython3",
      "version": "3.9.1"
    }
  },
  "cells": [
    {
      "cell_type": "markdown",
      "metadata": {
        "id": "PtcBjMq7YV3f"
      },
      "source": [
        "# Homework 2 - Recurrent Neural Networks"
      ]
    },
    {
      "cell_type": "markdown",
      "metadata": {
        "id": "Rn-cOk1iZTtR"
      },
      "source": [
        "In this part of the homework we are going to work with Recurrent Neural Networks, in particular GRU. One of the greatest things that Recurrent Neural Networks can do when working with sequences is retaining data from several timesteps in the past. We are going to explore that property by constructing an 'echo' Recurrent Neural Network.\n",
        "\n",
        "The goal here is to make a model that given a sequence of letters or digits will output that same sequence, but with a certain delay. Let's say the input is a string 'abacaba', we want the model to not output anything for 3 steps (delay length), and then output the original string step by step, except the last 3 characters. So, target output is then 'XXXabac', where 'X' is empty output.\n",
        "\n",
        "This is similar to [this notebook](https://github.com/Atcold/pytorch-Deep-Learning/blob/master/09-echo_data.ipynb) (which you should refer to when doing this assignment), except we're working not with a binary string, but with a sequence of integers between 0 and some N. In our case N is 26, which is the number of letters in the alphabet."
      ]
    },
    {
      "cell_type": "markdown",
      "metadata": {
        "id": "npLlE973as6x"
      },
      "source": [
        "## Dataset\n",
        "\n",
        "Let's implement the dataset. In our case, the data is basically infinite, as we can always generate more examples on the fly, so don't need to load anything from disk."
      ]
    },
    {
      "cell_type": "code",
      "metadata": {
        "id": "mkEEMyvzIMRx"
      },
      "source": [
        "import random\n",
        "import string\n",
        "\n",
        "import torch\n",
        "\n",
        "# Max value of the generated integer. 26 is chosen becuase it's\n",
        "# the number of letters in English alphabet.\n",
        "N = 26\n",
        "\n",
        "\n",
        "def idx_to_onehot(x, k=N+1):\n",
        "  \"\"\" Converts the generated integers to one-hot vectors \"\"\"\n",
        "  ones = torch.sparse.torch.eye(k)\n",
        "  shape = x.shape\n",
        "  res = ones.index_select(0, x.view(-1).type(torch.int64))\n",
        "  return res.view(*shape, res.shape[-1])\n",
        "\n",
        "\n",
        "class EchoDataset(torch.utils.data.IterableDataset):\n",
        "\n",
        "  def __init__(self, delay=4, seq_length=15, size=1000):\n",
        "    self.delay = delay\n",
        "    self.seq_length = seq_length\n",
        "    self.size = size\n",
        "  \n",
        "  def __len__(self):\n",
        "    return self.size\n",
        "\n",
        "  def __iter__(self):\n",
        "    \"\"\" Iterable dataset doesn't have to implement __getitem__.\n",
        "        Instead, we only need to implement __iter__ to return\n",
        "        an iterator (or generator).\n",
        "    \"\"\"\n",
        "    for _ in range(self.size):\n",
        "      seq = torch.tensor([random.choice(range(1, N + 1)) for i in range(self.seq_length)], dtype=torch.int64)\n",
        "      result = torch.cat((torch.zeros(self.delay), seq[:self.seq_length - self.delay])).type(torch.int64)\n",
        "      yield seq, result\n",
        "\n",
        "DELAY = 4\n",
        "DATASET_SIZE = 200000\n",
        "ds = EchoDataset(delay=DELAY, size=DATASET_SIZE)"
      ],
      "execution_count": 1,
      "outputs": []
    },
    {
      "cell_type": "markdown",
      "metadata": {
        "id": "nNrZqYURcKSl"
      },
      "source": [
        "## Model\n",
        "\n",
        "Now, we want to implement the model. For our purposes, we want to use GRU. The architecture consists of GRU and a decoder. Decoder is responsible for decoding the GRU hidden state to yield a predicting for the next output. The parts you are responsible for filling with your code are marked with `TODO`. "
      ]
    },
    {
      "cell_type": "code",
      "metadata": {
        "id": "nigN_o4Mb9Nx"
      },
      "source": [
        "class GRUMemory(torch.nn.Module):\n",
        "\n",
        "  def __init__(self, hidden_size):\n",
        "    super().__init__()\n",
        "    ### TODO: initialize your submodules\n",
        "    self.hidden_size = hidden_size\n",
        "    self.hidden_layers = 4\n",
        "\n",
        "    self.gru = torch.nn.GRU(\n",
        "        input_size=N+1,\n",
        "        hidden_size=self.hidden_size,\n",
        "        num_layers=self.hidden_layers,\n",
        "        batch_first=True,\n",
        "    )\n",
        "    self.linear = torch.nn.Linear(\n",
        "        in_features=self.hidden_size,\n",
        "        out_features=N+1\n",
        "    )\n",
        "\n",
        "  def forward(self, x):\n",
        "    # inputs: x - input tensor of shape (batch_size, seq_length, N+1)\n",
        "    # returns:\n",
        "    # logits (scores for softmax) of shape (batch size, seq_length, N+1)\n",
        "\n",
        "    ### TODO implement forward pass\n",
        "    output, h = self.gru(x)\n",
        "    output = self.linear(output)\n",
        "    output = torch.nn.functional.log_softmax(output, dim=2)\n",
        "    return output, h\n",
        "\n",
        "  @torch.no_grad()\n",
        "  def test_run(self, s, device=torch.device(\"cpu\")):\n",
        "    # This function accepts one string s containing lowercase characters a-z. \n",
        "    # You need to map those characters to one-hot encodings, \n",
        "    # then get the result from your network, and then convert the output \n",
        "    # back to a string of the same length, with 0 mapped to ' ',\n",
        "    # and 1-26 mapped to a-z.\n",
        "\n",
        "    ### TODO\n",
        "    self.eval()\n",
        "    char_start = ord('a')\n",
        "\n",
        "    integer_seq = torch.tensor([ord(char)-char_start+1 for char in s])\n",
        "    onehot_sequence = idx_to_onehot(integer_seq)\n",
        "    onehot_sequence = onehot_sequence.unsqueeze(0)\n",
        "    onehot_sequence = onehot_sequence.to(device)\n",
        "\n",
        "    output, h = self(onehot_sequence)\n",
        "    output = torch.squeeze(output)\n",
        "    pred = torch.max(output, 1)\n",
        "    \n",
        "    output_str = ''\n",
        "    for i in pred.indices:\n",
        "      if i == 0: \n",
        "        output_str += ' '\n",
        "      else: \n",
        "        output_str += chr(i+char_start-1)\n",
        "\n",
        "    return output_str"
      ],
      "execution_count": 2,
      "outputs": []
    },
    {
      "cell_type": "markdown",
      "metadata": {
        "id": "A9whwmVu9OIx"
      },
      "source": [
        "## Training\n",
        "Below you need to implement the training of the model. We give you more freedom as for the implementation. The two limitations are that it has to execute within 10 minutes, and that error rate should be below 1%."
      ]
    },
    {
      "cell_type": "code",
      "metadata": {
        "id": "lUZkeRnVTNzG"
      },
      "source": [
        "def test_model(model, device, sequence_length=15):\n",
        "  \"\"\"\n",
        "  This is the test function that runs 100 different strings through your model,\n",
        "  and checks the error rate.\n",
        "  \"\"\"\n",
        "  total = 0\n",
        "  correct = 0\n",
        "  D = DELAY\n",
        "  for i in range(500):\n",
        "    s = ''.join([random.choice(string.ascii_lowercase) for i in range(random.randint(15, 25))])\n",
        "    result = model.test_run(s, device)\n",
        "    assert D > 0, 's[:-D] won\\'t work for D=0'\n",
        "    for c1, c2 in zip(s[:-D], result[D:]):\n",
        "      correct += int(c1 == c2)\n",
        "    total += len(s) - D\n",
        "\n",
        "  return correct / total"
      ],
      "execution_count": 3,
      "outputs": []
    },
    {
      "cell_type": "code",
      "metadata": {
        "colab": {
          "base_uri": "https://localhost:8080/"
        },
        "id": "9lV9BscxCCAI",
        "outputId": "ded261f7-54bb-4ae4-933a-5e6cecf0204e"
      },
      "source": [
        "import time\n",
        "start_time = time.time()\n",
        "\n",
        "### TODO\n",
        "BATCH_SIZE = 64\n",
        "train_dataloader = torch.utils.data.DataLoader(ds, \n",
        "                                               batch_size=BATCH_SIZE, \n",
        "                                               num_workers=4)\n",
        "\n",
        "model = GRUMemory(hidden_size=64)\n",
        "criterion = torch.nn.NLLLoss()\n",
        "optimizer = torch.optim.Adam(model.parameters(), lr=1e-3)\n",
        "\n",
        "if torch.cuda.is_available():\n",
        "  model = model.cuda()\n",
        "  criterion = criterion.cuda()\n",
        "  device = torch.device(\"cuda:0\")\n",
        "else:\n",
        "  device = torch.device(\"cpu\")\n",
        "\n",
        "def train(model, train_dataloader):\n",
        "  model.train()\n",
        "\n",
        "  for data, target in train_dataloader:\n",
        "    data = idx_to_onehot(data)\n",
        "\n",
        "    data = data.to(device)\n",
        "    target = target.to(device)\n",
        "    \n",
        "    optimizer.zero_grad()\n",
        "    output, h = model(data)\n",
        "    output = output.permute(0, 2, 1)\n",
        "\n",
        "    loss = criterion(output, target)\n",
        "    loss.backward()\n",
        "    optimizer.step()\n",
        "\n",
        "  return loss, h\n",
        "\n",
        "n_epochs = 3\n",
        "\n",
        "for epoch in range(1, n_epochs+1):\n",
        "  loss, h = train(model, train_dataloader)\n",
        "  print(f'Train Epoch: {epoch}/{n_epochs}, loss: {loss:.3f}')\n",
        "\n",
        "end_time = time.time()\n",
        "duration = end_time - start_time\n",
        "accuracy = test_model(model, device)\n",
        "assert duration < 600, 'execution took f{duration:.2f} seconds, which longer than 10 mins'\n",
        "assert accuracy > 0.99, f'accuracy is too low, got {accuracy}, need 0.99'\n",
        "print('tests passed')"
      ],
      "execution_count": 4,
      "outputs": [
        {
          "output_type": "stream",
          "name": "stderr",
          "text": [
            "/usr/local/lib/python3.7/dist-packages/torch/utils/data/dataloader.py:481: UserWarning: This DataLoader will create 4 worker processes in total. Our suggested max number of worker in current system is 2, which is smaller than what this DataLoader is going to create. Please be aware that excessive worker creation might get DataLoader running slow or even freeze, lower the worker number to avoid potential slowness/freeze if necessary.\n",
            "  cpuset_checked))\n"
          ]
        },
        {
          "output_type": "stream",
          "name": "stdout",
          "text": [
            "Train Epoch: 1/3, loss: 0.153\n",
            "Train Epoch: 2/3, loss: 0.001\n",
            "Train Epoch: 3/3, loss: 0.003\n",
            "tests passed\n"
          ]
        }
      ]
    },
    {
      "cell_type": "markdown",
      "metadata": {
        "id": "sB0EVNBtDhpN"
      },
      "source": [
        "## Variable delay model\n",
        "\n",
        "Now, to make this more complicated, we want to have varialbe delay. So, now, the goal is to transform a sequence of pairs (character, delay) into a character sequence with given delay. Delay stays constant within one sequence."
      ]
    },
    {
      "cell_type": "markdown",
      "metadata": {
        "id": "3i_iwX_AEOCH"
      },
      "source": [
        "### Dataset\n",
        "As before, we first implement the dataset:"
      ]
    },
    {
      "cell_type": "code",
      "metadata": {
        "id": "E4G5b8kuEUEd"
      },
      "source": [
        "class VariableDelayEchoDataset(torch.utils.data.IterableDataset):\n",
        "\n",
        "  def __init__(self, max_delay=8, seq_length=20, size=1000):\n",
        "    self.max_delay = max_delay\n",
        "    self.seq_length = seq_length\n",
        "    self.size = size\n",
        "  \n",
        "  def __len__(self):\n",
        "    return self.size\n",
        "\n",
        "  def __iter__(self):\n",
        "    for _ in range(self.size):\n",
        "      seq = torch.tensor([random.choice(range(1, N + 1)) for i in range(self.seq_length)], dtype=torch.int64)\n",
        "      delay = random.randint(0, self.max_delay)\n",
        "      result = torch.cat((torch.zeros(delay), seq[:self.seq_length - delay])).type(torch.int64)\n",
        "      yield seq, delay, result"
      ],
      "execution_count": 5,
      "outputs": []
    },
    {
      "cell_type": "markdown",
      "metadata": {
        "id": "oTRVOND3HEJZ"
      },
      "source": [
        "### Model\n",
        "\n",
        "And the model."
      ]
    },
    {
      "cell_type": "code",
      "metadata": {
        "id": "IYolFIB8Hg0U"
      },
      "source": [
        "class VariableDelayGRUMemory(torch.nn.Module):\n",
        "\n",
        "  def __init__(self, hidden_size, max_delay, device=torch.device(\"cpu\")):\n",
        "    super().__init__()\n",
        "\n",
        "    ### TODO\n",
        "    self.hidden_size = hidden_size\n",
        "    self.hidden_layers = 4\n",
        "    self.max_delay = max_delay\n",
        "    self.device = device\n",
        "\n",
        "    self.gru = torch.nn.GRU(\n",
        "        input_size=N+2,\n",
        "        hidden_size=self.hidden_size,\n",
        "        num_layers=self.hidden_layers,\n",
        "        batch_first=True,\n",
        "    )\n",
        "\n",
        "    self.linear = torch.nn.Linear(\n",
        "        in_features=hidden_size,\n",
        "        out_features=N+1\n",
        "    )\n",
        "\n",
        "\n",
        "  def forward(self, x, delays):\n",
        "    # inputs:\n",
        "    # x - tensor of shape (batch size, seq length, N + 1)\n",
        "    # delays - tensor of shape (batch size)\n",
        "    # returns:\n",
        "    # logits (scores for softmax) of shape (batch size, seq_length, N + 1)\n",
        "\n",
        "    ### TODO\n",
        "    seq_length = x.shape[1]\n",
        "    delays = delays.view(-1, 1)\n",
        "    delays = delays.repeat(1, seq_length)\n",
        "    delays = delays.unsqueeze(2)\n",
        "    x = torch.cat((x, delays), dim=2)\n",
        "    x = x.to(self.device)\n",
        "\n",
        "    output, h = self.gru(x)\n",
        "    output = self.linear(output)\n",
        "    output = torch.nn.functional.log_softmax(output, dim=2)\n",
        "\n",
        "    return output, h\n",
        "\n",
        "  @torch.no_grad()\n",
        "  def test_run(self, s, delay):\n",
        "    # This function accepts one string s containing lowercase characters a-z, \n",
        "    # and a delay - the desired output delay.\n",
        "    # You need to map those characters to one-hot encodings, \n",
        "    # then get the result from your network, and then convert the output \n",
        "    # back to a string of the same length, with 0 mapped to ' ', \n",
        "    # and 1-26 mapped to a-z.\n",
        "\n",
        "    ### TODO\n",
        "    self.eval()\n",
        "    char_start = ord('a')\n",
        "\n",
        "    integer_seq = torch.tensor([ord(char)-char_start+1 for char in s])\n",
        "    onehot_sequence = idx_to_onehot(integer_seq)\n",
        "    onehot_sequence = onehot_sequence.unsqueeze(0)\n",
        "    onehot_sequence = onehot_sequence.to(self.device)\n",
        "\n",
        "    delays = torch.tensor([delay])\n",
        "    delays = delays.to(self.device)\n",
        "\n",
        "    output, h = self(onehot_sequence, delays)\n",
        "    output = torch.squeeze(output)\n",
        "    pred = torch.max(output, 1)\n",
        "    \n",
        "    output_str = ''\n",
        "    for i in pred.indices:\n",
        "      if i == 0: \n",
        "        output_str += ' '\n",
        "      else: \n",
        "        output_str += chr(i+char_start-1)\n",
        "\n",
        "    return output_str"
      ],
      "execution_count": 6,
      "outputs": []
    },
    {
      "cell_type": "markdown",
      "metadata": {
        "id": "riu3qHWgKjsx"
      },
      "source": [
        "### Train\n",
        "\n",
        "As before, you're free to do what you want, as long as training finishes within 10 minutes and accuracy is above 0.99 for delays between 0 and 8."
      ]
    },
    {
      "cell_type": "code",
      "metadata": {
        "id": "4FZHojnGO3aw"
      },
      "source": [
        "def test_variable_delay_model(model, seq_length=20):\n",
        "  \"\"\"\n",
        "  This is the test function that runs 100 different strings through your model,\n",
        "  and checks the error rate.\n",
        "  \"\"\"\n",
        "  total = 0\n",
        "  correct = 0\n",
        "  for i in range(500):\n",
        "    s = ''.join([random.choice(string.ascii_lowercase) for i in range(seq_length)])\n",
        "    d = random.randint(0, model.max_delay)\n",
        "    result = model.test_run(s, d)\n",
        "    if d > 0:\n",
        "      z = zip(s[:-d], result[d:])\n",
        "    else:\n",
        "      z = zip(s, result)\n",
        "    for c1, c2 in z:\n",
        "      correct += int(c1 == c2)\n",
        "    total += len(s) - d\n",
        "\n",
        "  return correct / total"
      ],
      "execution_count": 7,
      "outputs": []
    },
    {
      "cell_type": "code",
      "metadata": {
        "colab": {
          "base_uri": "https://localhost:8080/"
        },
        "id": "YJ18Ef6vKi4s",
        "outputId": "8f89850b-2a07-4816-b29d-c2d8862b368c"
      },
      "source": [
        "import time\n",
        "start_time = time.time()\n",
        "\n",
        "MAX_DELAY = 8\n",
        "SEQ_LENGTH = 20\n",
        "\n",
        "### TODO: implement model training here.\n",
        "\n",
        "BATCH_SIZE = 64\n",
        "\n",
        "ds = VariableDelayEchoDataset(max_delay=MAX_DELAY, \n",
        "                              seq_length=SEQ_LENGTH, \n",
        "                              size=DATASET_SIZE)\n",
        "\n",
        "train_dataloader = torch.utils.data.DataLoader(ds, \n",
        "                                               batch_size=BATCH_SIZE, \n",
        "                                               num_workers=4)\n",
        "\n",
        "model = VariableDelayGRUMemory(64, MAX_DELAY)\n",
        "criterion = torch.nn.NLLLoss()\n",
        "optimizer = torch.optim.Adam(model.parameters(), lr=1e-3)\n",
        "\n",
        "if torch.cuda.is_available():\n",
        "  model = model.cuda()\n",
        "  criterion = criterion.cuda()\n",
        "  device = torch.device(\"cuda:0\")\n",
        "  model.device = device\n",
        "else:\n",
        "  device = torch.device(\"cpu\")\n",
        "\n",
        "def train(model, train_dataloader):\n",
        "  model.train()\n",
        "\n",
        "  for data, delays, target in train_dataloader:\n",
        "    data = idx_to_onehot(data)\n",
        "    target = target.to(device)\n",
        "\n",
        "    optimizer.zero_grad()\n",
        "    output, h = model(data, delays)\n",
        "    output = output.permute(0, 2, 1)\n",
        "\n",
        "    loss = criterion(output, target)\n",
        "    loss.backward()\n",
        "    optimizer.step()\n",
        "\n",
        "  return loss, h\n",
        "\n",
        "n_epochs = 4\n",
        "\n",
        "for epoch in range(1, n_epochs+1):\n",
        "  loss, h = train(model, train_dataloader)\n",
        "  print(f'Train Epoch: {epoch}/{n_epochs}, loss: {loss:.3f}')\n",
        "\n",
        "end_time = time.time()\n",
        "assert end_time - start_time < 600, 'executing took longer than 10 mins'\n",
        "assert test_variable_delay_model(model) > 0.99, 'accuracy is too low'\n",
        "print('tests passed')"
      ],
      "execution_count": 8,
      "outputs": [
        {
          "output_type": "stream",
          "name": "stderr",
          "text": [
            "/usr/local/lib/python3.7/dist-packages/torch/utils/data/dataloader.py:481: UserWarning: This DataLoader will create 4 worker processes in total. Our suggested max number of worker in current system is 2, which is smaller than what this DataLoader is going to create. Please be aware that excessive worker creation might get DataLoader running slow or even freeze, lower the worker number to avoid potential slowness/freeze if necessary.\n",
            "  cpuset_checked))\n"
          ]
        },
        {
          "output_type": "stream",
          "name": "stdout",
          "text": [
            "Train Epoch: 1/4, loss: 0.174\n",
            "Train Epoch: 2/4, loss: 0.034\n",
            "Train Epoch: 3/4, loss: 0.139\n",
            "Train Epoch: 4/4, loss: 0.056\n",
            "tests passed\n"
          ]
        }
      ]
    }
  ]
}